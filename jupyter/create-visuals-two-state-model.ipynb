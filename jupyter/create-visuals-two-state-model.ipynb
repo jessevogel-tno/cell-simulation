{
 "cells": [
  {
   "cell_type": "code",
   "execution_count": null,
   "metadata": {},
   "outputs": [],
   "source": [
    "from risq import *\n",
    "\n",
    "import matplotlib.pyplot as plt"
   ]
  },
  {
   "cell_type": "code",
   "execution_count": null,
   "metadata": {},
   "outputs": [],
   "source": [
    "# In the toy model, a cell can be in one of two states:\n",
    "# - H: healthy\n",
    "# - C: cancerous\n",
    "# Healthy cells can become cancerous with a probability `prob_mutate`\n",
    "# and cancerous cells can overgrow healthy cells with a probability `prob_spread`\n",
    "def create_toy_model(prob_mutate: float, prob_spread: float):\n",
    "    num_states = 2  # healthy and cancerous\n",
    "    num_neighbors = 4  # in a 2 dimensional grid, each cell has 4 neighbors\n",
    "\n",
    "    p = prob_mutate\n",
    "    q = prob_spread\n",
    "\n",
    "    probs_internal = [\n",
    "        [1.0 - p, 0.0],  # H\n",
    "        [   p   , 1.0],  # C\n",
    "    ]\n",
    "\n",
    "    probs_spread = [\n",
    "        [0.0, 0.0],  # H\n",
    "        [ q , 0.0],  # C\n",
    "    ]\n",
    "\n",
    "    return Model(\n",
    "        num_states=num_states,\n",
    "        num_neighbors=num_neighbors,\n",
    "        probs_internal=probs_internal,\n",
    "        probs_spread=probs_spread\n",
    "    )"
   ]
  },
  {
   "cell_type": "code",
   "execution_count": null,
   "metadata": {},
   "outputs": [],
   "source": [
    "def plot_figure(path: str, method: type[Method], prob_mutate: float, prob_spread: float):\n",
    "    # Create a model with some parameters\n",
    "    model = create_toy_model(\n",
    "        prob_mutate=prob_mutate,\n",
    "        prob_spread=prob_spread,\n",
    "    )\n",
    "\n",
    "    # Set time range\n",
    "    time_steps = 20\n",
    "\n",
    "    # State we are interested in plotting\n",
    "    state = 1  # = C\n",
    "\n",
    "    simulations: list[Method] = [\n",
    "        MonteCarlo2D(model, **{\n",
    "            \"num_trials\": 1000,\n",
    "            \"width\": 20,\n",
    "            \"height\": 20,\n",
    "            \"time_steps\": time_steps,\n",
    "            \"seed\": 42\n",
    "        }),\n",
    "        method(model),\n",
    "    ]\n",
    "\n",
    "    for simulation in simulations:\n",
    "        print(f\"🧬 Simulating using {simulation.__class__.__name__} ..\")\n",
    "        print(f\"- mean =     {simulation.probability(time_steps, state)}\")\n",
    "        print(f\"- variance = {simulation.variance(time_steps, state)}\")\n",
    "        print()\n",
    "\n",
    "    plot_distributions(simulations, time_steps, state)\n",
    "    plt.savefig(path)\n",
    "\n",
    "    return simulations"
   ]
  },
  {
   "cell_type": "code",
   "execution_count": null,
   "metadata": {},
   "outputs": [],
   "source": [
    "# Comparison Monte Carlo simulation to single cell approximation\n",
    "plot_figure(\"img/monte_carlo_vs_single_cell_strong_interaction.svg\", SingleCellMethod, 0.01, 0.05)\n",
    "plot_figure(\"img/monte_carlo_vs_single_cell_weak_interaction.svg\", SingleCellMethod, 0.05, 0.01)\n",
    "\n",
    "# Comparison Monte Carlo simulation to neighboring cells approximation\n",
    "plot_figure(\"img/monte_carlo_vs_neighboring_cells_strong_interaction.svg\", NeighboringCellMethod, 0.01, 0.05)\n",
    "plot_figure(\"img/monte_carlo_vs_neighboring_cells_weak_interaction.svg\", NeighboringCellMethod, 0.05, 0.01)"
   ]
  }
 ],
 "metadata": {
  "kernelspec": {
   "display_name": ".venv",
   "language": "python",
   "name": "python3"
  },
  "language_info": {
   "codemirror_mode": {
    "name": "ipython",
    "version": 3
   },
   "file_extension": ".py",
   "mimetype": "text/x-python",
   "name": "python",
   "nbconvert_exporter": "python",
   "pygments_lexer": "ipython3",
   "version": "3.12.8"
  }
 },
 "nbformat": 4,
 "nbformat_minor": 2
}
