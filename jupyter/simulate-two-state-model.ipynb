{
 "cells": [
  {
   "cell_type": "code",
   "execution_count": null,
   "metadata": {},
   "outputs": [],
   "source": [
    "from risq import *"
   ]
  },
  {
   "cell_type": "code",
   "execution_count": null,
   "metadata": {},
   "outputs": [],
   "source": [
    "# Create a model with some parameters\n",
    "model = create_two_state_model(\n",
    "    prob_mutate=0.05,\n",
    "    prob_spread=0.01\n",
    ")\n",
    "\n",
    "# Set time range\n",
    "time_steps = 20\n",
    "time_range = list(range(time_steps))\n",
    "\n",
    "# State we are interested in plotting\n",
    "state = 1 # = C\n",
    "\n",
    "simulations: list[Method] = [\n",
    "    MonteCarlo2D(model, **{ \"num_trials\": 1000, \"width\": 20, \"height\": 20, \"time_steps\": time_steps, \"seed\": 42 }),\n",
    "    SingleCellMethod(model),\n",
    "    NeighboringCellMethod(model)\n",
    "]\n",
    "\n",
    "for simulation in simulations:\n",
    "    print(f\"🧬 Simulating using {simulation.__class__.__name__} ..\")\n",
    "    print(f\"- mean     = {simulation.probability(time_steps, 0)}\")\n",
    "    print(f\"- variance = {simulation.variance(time_steps, 0)}\")\n",
    "    print()\n",
    "\n",
    "plot_distributions(simulations, time_steps, state)"
   ]
  }
 ],
 "metadata": {
  "kernelspec": {
   "display_name": ".venv",
   "language": "python",
   "name": "python3"
  },
  "language_info": {
   "codemirror_mode": {
    "name": "ipython",
    "version": 3
   },
   "file_extension": ".py",
   "mimetype": "text/x-python",
   "name": "python",
   "nbconvert_exporter": "python",
   "pygments_lexer": "ipython3",
   "version": "3.12.8"
  }
 },
 "nbformat": 4,
 "nbformat_minor": 2
}
